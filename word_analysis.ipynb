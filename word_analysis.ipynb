{
 "cells": [
  {
   "cell_type": "code",
   "execution_count": 48,
   "id": "1003fc3e",
   "metadata": {},
   "outputs": [],
   "source": [
    "import pandas as pd"
   ]
  },
  {
   "cell_type": "code",
   "execution_count": 49,
   "id": "a0371c0b",
   "metadata": {},
   "outputs": [],
   "source": [
    "df = pd.read_parquet('scraped_latin_texts_words.parquet', engine='pyarrow')"
   ]
  },
  {
   "cell_type": "code",
   "execution_count": 52,
   "id": "7bee8970",
   "metadata": {},
   "outputs": [],
   "source": [
    "word_counts_by_work = df.copy()\n",
    "word_counts_by_work = pd.DataFrame(word_counts_by_work.groupby(['title', 'source', 'word'])['count'].sum()).sort_values(by='count', ascending=False).reset_index()"
   ]
  },
  {
   "cell_type": "code",
   "execution_count": 60,
   "id": "abd7600a",
   "metadata": {},
   "outputs": [],
   "source": [
    "total_words_by_work_df = df.copy()\n",
    "total_words_by_work_df = pd.DataFrame(total_words_by_work_df.groupby(['title', 'source'])['count'].sum()).sort_values(by='count', ascending=False).reset_index()"
   ]
  },
  {
   "cell_type": "code",
   "execution_count": 51,
   "id": "a7259370",
   "metadata": {},
   "outputs": [],
   "source": [
    "word_counts_by_author_df = df.copy()\n",
    "word_counts_by_author_df = pd.DataFrame(word_counts_by_author_df.groupby(['author', 'word'])['count'].sum()).sort_values(by='count', ascending=False).reset_index()"
   ]
  },
  {
   "cell_type": "code",
   "execution_count": 54,
   "id": "8d739862",
   "metadata": {},
   "outputs": [],
   "source": [
    "total_words_by_author_df = df.copy()\n",
    "total_words_by_author_df = pd.DataFrame(total_words_by_author_df.groupby(['author'])['count'].sum()).sort_values(by='count', ascending=False).reset_index()"
   ]
  },
  {
   "cell_type": "code",
   "execution_count": 50,
   "id": "64aaee94",
   "metadata": {},
   "outputs": [],
   "source": [
    "total_word_counts_df = df.copy()\n",
    "total_word_counts_df = pd.DataFrame(total_word_counts_df.groupby(['word'])['count'].sum()).sort_values(by='count', ascending=False).reset_index()"
   ]
  },
  {
   "cell_type": "code",
   "execution_count": 61,
   "id": "f0a61620",
   "metadata": {},
   "outputs": [],
   "source": [
    "total_words = df['count'].sum()"
   ]
  },
  {
   "cell_type": "code",
   "execution_count": null,
   "id": "660a38f1",
   "metadata": {},
   "outputs": [],
   "source": []
  }
 ],
 "metadata": {
  "kernelspec": {
   "display_name": "base",
   "language": "python",
   "name": "python3"
  },
  "language_info": {
   "codemirror_mode": {
    "name": "ipython",
    "version": 3
   },
   "file_extension": ".py",
   "mimetype": "text/x-python",
   "name": "python",
   "nbconvert_exporter": "python",
   "pygments_lexer": "ipython3",
   "version": "3.11.4"
  }
 },
 "nbformat": 4,
 "nbformat_minor": 5
}
