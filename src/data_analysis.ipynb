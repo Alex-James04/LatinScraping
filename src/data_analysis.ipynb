{
 "cells": [
  {
   "cell_type": "code",
   "execution_count": 381,
   "id": "181e70bd",
   "metadata": {},
   "outputs": [],
   "source": [
    "import pandas as pd"
   ]
  },
  {
   "cell_type": "code",
   "execution_count": 382,
   "id": "d5cb8131",
   "metadata": {},
   "outputs": [],
   "source": [
    "base_df = pd.read_parquet('../bin/scraped_latin_texts_words.parquet')"
   ]
  },
  {
   "cell_type": "code",
   "execution_count": 384,
   "id": "552852e1",
   "metadata": {},
   "outputs": [],
   "source": [
    "word_df = base_df.copy()\n",
    "word_df = pd.DataFrame(word_df.groupby('word')['count'].sum()).reset_index()\n",
    "word_df['overall_frequency'] = word_df['count'] / sum(word_df['count'])\n",
    "word_df['overall_frequency_rank'] = word_df['count'].rank(method='max', ascending=False).astype(int)\n",
    "word_df = word_df.sort_values(by='overall_frequency_rank', ascending=True).reset_index().drop(columns='index')\n",
    "\n",
    "merge_df = base_df.copy()\n",
    "merge_df = pd.DataFrame(merge_df['word'].value_counts())\n",
    "merge_df['cross_text_count'] = merge_df['word']\n",
    "merge_df['word'] = merge_df.index\n",
    "merge_df = merge_df.reset_index().drop(columns='index')\n",
    "\n",
    "word_df = word_df.merge(merge_df, on='word', how='outer')\n",
    "\n",
    "word_df['cross_text_frequency'] = word_df['cross_text_count'] / len(base_df.groupby(['author', 'title'])['title'])\n",
    "word_df['cross_text_frequency_rank'] = word_df['cross_text_count'].rank(method='max', ascending=False).astype(int)\n",
    "\n",
    "merge_df = base_df.copy()\n",
    "merge_df = pd.DataFrame(merge_df.groupby(['author', 'word'])['count'].sum()).reset_index()\n",
    "merge_df = pd.DataFrame(merge_df['word'].value_counts())\n",
    "merge_df['cross_author_count'] = merge_df['word']\n",
    "merge_df['word'] = merge_df.index\n",
    "merge_df = merge_df.reset_index().drop(columns='index')\n",
    "\n",
    "word_df = word_df.merge(merge_df, on='word', how='outer')\n",
    "\n",
    "word_df['cross_author_frequency'] = word_df['cross_author_count'] / len(base_df['author'].unique())\n",
    "word_df['cross_author_frequency_rank'] = word_df['cross_author_count'].rank(method='max', ascending=False).astype(int)\n",
    "\n",
    "word_df['zipf_value'] = word_df['overall_frequency_rank'] * word_df['overall_frequency']"
   ]
  },
  {
   "cell_type": "code",
   "execution_count": null,
   "id": "a6398f23",
   "metadata": {},
   "outputs": [],
   "source": [
    "# export word_df as parquet to bin folder\n",
    "# word_df.to_parquet('../bin/scraped_latin_texts_word_data.parquet', index=False, compression=\"gzip\", engine=\"pyarrow\")"
   ]
  },
  {
   "cell_type": "code",
   "execution_count": 387,
   "id": "53c65fda",
   "metadata": {},
   "outputs": [],
   "source": [
    "text_df = base_df.copy()\n",
    "text_df = text_df.groupby(['author', 'source', 'title']).agg({'count': 'sum', 'word': 'nunique'}).rename(columns={'count': 'text_overall_word_count', 'word': 'text_unique_word_count'}).reset_index()\n",
    "text_df['text_overall_word_count_rank'] = text_df['text_overall_word_count'].rank(method='max', ascending=False).astype(int)\n",
    "text_df['text_unique_word_frequency'] = text_df['text_unique_word_count'] / text_df['text_overall_word_count']\n",
    "text_df['text_unique_word_frequency_rank'] = text_df['text_unique_word_frequency'].rank(method='max', ascending=False).astype(int)\n",
    "text_df = text_df.iloc[:, [0, 1, 2, 3, 5, 4, 6, 7]]"
   ]
  },
  {
   "cell_type": "code",
   "execution_count": null,
   "id": "6bb8f06a",
   "metadata": {},
   "outputs": [],
   "source": [
    "# export text_df as parquet to bin folder\n",
    "# text_df.to_parquet('../bin/scraped_latin_texts_text_data.parquet', index=False, compression=\"gzip\", engine=\"pyarrow\")"
   ]
  },
  {
   "cell_type": "code",
   "execution_count": 390,
   "id": "e8a7d5fb",
   "metadata": {},
   "outputs": [],
   "source": [
    "author_df = base_df.copy()\n",
    "author_df = author_df.groupby(['author']).agg({'count': 'sum', 'word': 'nunique'}).rename(columns={'count': 'author_overall_word_count', 'word': 'author_unique_word_count'}).reset_index()\n",
    "author_df['author_overall_word_count_rank'] = author_df['author_overall_word_count'].rank(method='max', ascending=False).astype(int)\n",
    "author_df['author_unique_word_frequency'] = author_df['author_unique_word_count'] / author_df['author_overall_word_count']\n",
    "author_df['author_unique_word_frequency_rank'] = author_df['author_unique_word_frequency'].rank(method='max', ascending=False).astype(int)\n",
    "author_df = author_df.iloc[:, [0, 1, 3, 2, 4, 5]]"
   ]
  },
  {
   "cell_type": "code",
   "execution_count": null,
   "id": "e395272d",
   "metadata": {},
   "outputs": [],
   "source": [
    "# export author_df as parquet to bin folder\n",
    "# author_df.to_parquet('../bin/scraped_latin_texts_author_data.parquet', index=False, compression=\"gzip\", engine=\"pyarrow\")"
   ]
  }
 ],
 "metadata": {
  "kernelspec": {
   "display_name": "base",
   "language": "python",
   "name": "python3"
  },
  "language_info": {
   "codemirror_mode": {
    "name": "ipython",
    "version": 3
   },
   "file_extension": ".py",
   "mimetype": "text/x-python",
   "name": "python",
   "nbconvert_exporter": "python",
   "pygments_lexer": "ipython3",
   "version": "3.11.4"
  }
 },
 "nbformat": 4,
 "nbformat_minor": 5
}
